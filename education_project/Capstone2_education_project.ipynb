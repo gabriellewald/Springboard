{
 "cells": [
  {
   "cell_type": "markdown",
   "metadata": {},
   "source": [
    "   # Education Project\n",
    "\n",
    "\n",
    "   <img src='data/education_image.jpg' width=\"900\">\n",
    "   \n",
    "   **Credit:**  [wsimag](https://wsimag.com/culture/60264-education-in-venezuela-the-americas-and-the-world)\n",
    "\n"
   ]
  },
  {
   "cell_type": "code",
   "execution_count": 1,
   "metadata": {},
   "outputs": [],
   "source": [
    "# Load relevant packages\n",
    "import pandas as pd\n",
    "import numpy as np\n",
    "import matplotlib.pyplot as plt\n",
    "import seaborn as sns\n",
    "import statsmodels.formula.api as sm\n",
    "import warnings\n",
    "\n",
    "sns.set(style='ticks')\n",
    "\n",
    "warnings.filterwarnings(\"ignore\")  # Suppress all warnings"
   ]
  },
  {
   "cell_type": "markdown",
   "metadata": {},
   "source": [
    "# Introduction\n",
    "\n",
    "## Business Context\n",
    "Research shows that high-poverty areas disproportionally educate children of color. The chances of ending up in a high-poverty or high-minority school are highly determined by a student’s race/ethnicity and social class. For instance, African American and Hispanic students—even if they are not poor—are much more likely than white or Asian students to be in high-poverty schools.\n",
    "\n",
    "There is a growing body of evidence that shows increased investment on education returns better outcomes and that the positive effects are even greater among low-income students. On the other hand, it costs more to educate low-income students and provide them with a robust education capable of overcoming their initial disadvantages.\n",
    "\n",
    "\n",
    "### Goals\n",
    "1. Understand the current demographics of wealthy to high-poverty schools across the state of California.\n",
    "2. Identify how much funding is available per pupil in wealthy vs high-poverty areas.\n",
    "3. Learn what factors are most correlated with student performance.\n",
    "\n",
    "\n",
    "#### Predictive modeling\n",
    "What's the average test score per school?\n",
    "What's the percentage of students who pass/not pass?\n"
   ]
  },
  {
   "cell_type": "markdown",
   "metadata": {},
   "source": [
    "# DATA WRANGLING\n",
    "\n",
    "The process of transforming and mapping data from one \"raw\" data form into another format with the intent of making it more appropriate and valuable for a variety of downstream purposes such as analytics.\n",
    "\n",
    "- Extracting and cleaning relevant data. Let's start looking at the datasets!"
   ]
  },
  {
   "cell_type": "markdown",
   "metadata": {},
   "source": [
    "### Assessment Data\n",
    "\n",
    "- It contains assessment data for the Smarter Balance Summative Assessment (2018-2019) for the state of California.\n",
    "\n",
    "- Legend types can be found here: https://caaspp-elpac.cde.ca.gov/caaspp/research_fixfileformat19\n",
    "- More information about assesment set up: https://www.cde.ca.gov/ta/tg/ca/sbsummativefaq.asp"
   ]
  },
  {
   "cell_type": "code",
   "execution_count": null,
   "metadata": {},
   "outputs": [],
   "source": [
    "# loa datafile\n",
    "df_all = pd.read_csv('large_data/sb_ca2019_all_csv_v4.txt')"
   ]
  },
  {
   "cell_type": "code",
   "execution_count": null,
   "metadata": {},
   "outputs": [],
   "source": [
    "# create dataset containing district level data\n",
    "df_district = df_all[df_all['District Code'] == 00000]"
   ]
  },
  {
   "cell_type": "code",
   "execution_count": null,
   "metadata": {},
   "outputs": [],
   "source": [
    "# create dataset containing school level data\n",
    "df_school = df_all.drop(df_all[df_all['School Code'] == 0].index)\n",
    "df_school.head(10)"
   ]
  },
  {
   "cell_type": "code",
   "execution_count": null,
   "metadata": {},
   "outputs": [],
   "source": [
    "# check columns' names\n",
    "df_school.columns"
   ]
  },
  {
   "cell_type": "code",
   "execution_count": null,
   "metadata": {
    "scrolled": false
   },
   "outputs": [],
   "source": [
    "# check data type\n",
    "df_school.info()"
   ]
  },
  {
   "cell_type": "code",
   "execution_count": null,
   "metadata": {
    "scrolled": false
   },
   "outputs": [],
   "source": [
    "# Check for missing data\n",
    "df_school.isnull().sum()"
   ]
  },
  {
   "cell_type": "code",
   "execution_count": null,
   "metadata": {},
   "outputs": [],
   "source": [
    "# Number of rows where subgroup ID == 1\n",
    "df_school[df_school['Subgroup ID'] == 1].count()"
   ]
  },
  {
   "cell_type": "code",
   "execution_count": null,
   "metadata": {},
   "outputs": [],
   "source": [
    "# Check number of unique schools\n",
    "df_school['School Code'].nunique()"
   ]
  },
  {
   "cell_type": "markdown",
   "metadata": {},
   "source": [
    "- There are 10,300 unique schools!"
   ]
  },
  {
   "cell_type": "markdown",
   "metadata": {},
   "source": [
    "### Reorganizing Subgroup ID \n",
    "\n",
    "The assessment dataset contains a lot of demographic information in the subgroup ID column. Need to reorganize the dataset in order to have one variable per column and one observation per row. Also, neet to filter only the demographic information of interest.\n",
    "\n",
    "#### Before merging:\n",
    "- Filter variables of interest;\n",
    "- Rearrange the data to have: \n",
    "    - one feature per column; \n",
    "    - one observation per row;\n",
    "\n",
    "This dataset representes the Smater Balanced Assessments for English Language Arts/Literacy and Mathematics (SB). Test ID 1 and 2. More info about the test can be found here: https://www.caaspp.org/administration/about/testing/index.html"
   ]
  },
  {
   "cell_type": "markdown",
   "metadata": {},
   "source": [
    "## Creating two datasets for modeling\n",
    "\n",
    "- Language Arts & Literature: test_id == 1\n",
    "\n",
    "    - 10,299 rows\n",
    "    \n",
    "    \n",
    "- Mathematics: test_id == 2\n",
    "\n",
    "    - 10,298 rows\n",
    "\n"
   ]
  },
  {
   "cell_type": "code",
   "execution_count": null,
   "metadata": {},
   "outputs": [],
   "source": [
    "# Filter Grade == 13 summary of all grades per school\n",
    "all_grades = df_school[df_school['Grade'] == 13]\n",
    "\n",
    "# Filter Subgroup ID == 1 summary of all students\n",
    "all_students = all_grades[all_grades['Subgroup ID'] == 1]"
   ]
  },
  {
   "cell_type": "code",
   "execution_count": null,
   "metadata": {},
   "outputs": [],
   "source": [
    "# Create df_test1 language arts & literature \n",
    "df_test1 = all_students[all_students['Test Id'] == 1]"
   ]
  },
  {
   "cell_type": "code",
   "execution_count": null,
   "metadata": {},
   "outputs": [],
   "source": [
    "# drop columns with redundant information\n",
    "df_test1 = df_test1.drop(columns = ['Filler', 'Test Year', 'Test Type', 'County Code', 'District Code',\n",
    "                             'Area 1 Percentage Above Standard', 'Area 1 Percentage Near Standard',\n",
    "                             'Area 1 Percentage Below Standard', 'Area 2 Percentage Above Standard',\n",
    "                             'Area 2 Percentage Near Standard', 'Area 2 Percentage Below Standard',\n",
    "                             'Area 3 Percentage Above Standard', 'Area 3 Percentage Near Standard',\n",
    "                             'Area 3 Percentage Below Standard', 'Area 4 Percentage Above Standard',\n",
    "                             'Area 4 Percentage Near Standard', 'Area 4 Percentage Below Standard'])"
   ]
  },
  {
   "cell_type": "code",
   "execution_count": null,
   "metadata": {},
   "outputs": [],
   "source": [
    "df_test1"
   ]
  },
  {
   "cell_type": "code",
   "execution_count": null,
   "metadata": {},
   "outputs": [],
   "source": [
    "# Create df_test2 mathematics\n",
    "df_test2 = all_students[all_students['Test Id'] == 2]\n",
    "df_test2"
   ]
  },
  {
   "cell_type": "markdown",
   "metadata": {},
   "source": [
    "#### Subgroup ID \n",
    "\n",
    "In the legend below Demographic Id and Demographic Id Num are represented in the dataset as Subgroup ID."
   ]
  },
  {
   "cell_type": "code",
   "execution_count": null,
   "metadata": {
    "scrolled": true
   },
   "outputs": [],
   "source": [
    "legend = pd.read_csv('data/Subgroups.txt')\n",
    "legend"
   ]
  },
  {
   "cell_type": "code",
   "execution_count": null,
   "metadata": {},
   "outputs": [],
   "source": [
    "# filter demographic of interest from Subgroup ID\n",
    "subgroup_id = [1, 3, 4, 50, 51, 52, 53, 90, 91, 92, 93, 94, 220, 221, 222, 223, \n",
    "               224, 225, 226, 227, 200, 201, 202, 203, 204, 205, 206, 207]\n",
    "\n",
    "df_school_id = df_school[df_school['Subgroup ID'].isin(subgroup_id)]"
   ]
  },
  {
   "cell_type": "markdown",
   "metadata": {},
   "source": [
    "## Next: \n",
    "1. Transform demographic information contained into subgroup id (rows) to one variable per column.\n",
    "2. Do the same with other demographic information contained in subgroup id column."
   ]
  },
  {
   "cell_type": "markdown",
   "metadata": {},
   "source": [
    "---------"
   ]
  },
  {
   "cell_type": "markdown",
   "metadata": {},
   "source": [
    "### Entities Data\n",
    "\n",
    "- It contains information such as school and district name, as well as zip code and relevant codes that will allow merging with the assessment data. \n",
    "- It comes from the California Assessment of Student Performance and Progress.\n",
    "\n",
    "Dataset number of rows match current information about the state of CA:\n",
    "\n",
    "- There are ~ 1,040 school districts in California. \n",
    "    - The entities_dist dataset contains 1,087 rows.\n",
    "- There are ~ 10,588 schools in California. \n",
    "    - The df_entities dataset contains 10,300 rows."
   ]
  },
  {
   "cell_type": "code",
   "execution_count": null,
   "metadata": {},
   "outputs": [],
   "source": [
    "df_entities = pd.read_csv('data/sb_ca2019entities_csv.txt')"
   ]
  },
  {
   "cell_type": "code",
   "execution_count": null,
   "metadata": {},
   "outputs": [],
   "source": [
    "# create dataset containing entities data at district level\n",
    "entities_dist = df_entities[df_entities['School Code'] == 0]\n"
   ]
  },
  {
   "cell_type": "code",
   "execution_count": null,
   "metadata": {},
   "outputs": [],
   "source": [
    "# create dataset containing entities data at school level \n",
    "df_entities = df_entities.drop(df_entities[df_entities['School Code'] == 0].index) # drop district level data"
   ]
  },
  {
   "cell_type": "code",
   "execution_count": null,
   "metadata": {},
   "outputs": [],
   "source": [
    "df_entities['County Name'].unique()"
   ]
  },
  {
   "cell_type": "code",
   "execution_count": null,
   "metadata": {},
   "outputs": [],
   "source": [
    "# drop columns with redundant information or not of use \n",
    "df_entities = df_entities.drop(columns = ['Filler', 'Type Id', 'County Code', 'District Code', 'District Name', 'County Name'])\n",
    "df_entities"
   ]
  },
  {
   "cell_type": "markdown",
   "metadata": {},
   "source": [
    "--------"
   ]
  },
  {
   "cell_type": "markdown",
   "metadata": {},
   "source": [
    "## Merge df_school_id with df_entities\n",
    "\n",
    "This merge adds school name, zipcode, and test year to the main df."
   ]
  },
  {
   "cell_type": "code",
   "execution_count": null,
   "metadata": {
    "scrolled": false
   },
   "outputs": [],
   "source": [
    "# merge dfs on school code\n",
    "#df_merge = pd.merge(df_entities, df_school_id, on='School Code')\n",
    "\n",
    "#df_merge"
   ]
  },
  {
   "cell_type": "code",
   "execution_count": null,
   "metadata": {},
   "outputs": [],
   "source": [
    "#df_merge.isnull().sum()"
   ]
  },
  {
   "cell_type": "markdown",
   "metadata": {},
   "source": [
    "----------"
   ]
  },
  {
   "cell_type": "markdown",
   "metadata": {},
   "source": [
    "### Expenses Data\n",
    "\n",
    "- It contains the current cost of education for school districts in California.\n",
    "- The dataset contains variables such school district expense average daily attendance cost for the academic year 2018-2019."
   ]
  },
  {
   "cell_type": "code",
   "execution_count": null,
   "metadata": {},
   "outputs": [],
   "source": [
    "df_expenses = pd.read_excel('data/currentexpense1819.xlsx')"
   ]
  },
  {
   "cell_type": "code",
   "execution_count": null,
   "metadata": {},
   "outputs": [],
   "source": [
    "df_expenses = df_expenses.drop(df_expenses.index[[0,1,2,3,4,5,6,7,8]])"
   ]
  },
  {
   "cell_type": "code",
   "execution_count": null,
   "metadata": {},
   "outputs": [],
   "source": [
    "new_header = df_expenses.iloc[0] #grab the first row for the header\n",
    "df_expenses = df_expenses[1:] #take the data less the header row\n",
    "df_expenses.columns = new_header #set the header row as the df header"
   ]
  },
  {
   "cell_type": "code",
   "execution_count": null,
   "metadata": {},
   "outputs": [],
   "source": [
    "df_expenses"
   ]
  },
  {
   "cell_type": "markdown",
   "metadata": {},
   "source": [
    "---------"
   ]
  },
  {
   "cell_type": "markdown",
   "metadata": {},
   "source": [
    "### Enrollment Dataset, Full-Time Equivalent Teacher, and Pupil/Teacher Ratio\n",
    "- It contains total enrollment per school for the academic year 2018-2019 in California.\n",
    "- Data comes from the National Center for Education Statistics."
   ]
  },
  {
   "cell_type": "code",
   "execution_count": null,
   "metadata": {},
   "outputs": [],
   "source": [
    "# load datafile\n",
    "df_enrollment = pd.read_csv('data/ELSI_total_enrollment_.csv')\n",
    "df_enrollment"
   ]
  },
  {
   "cell_type": "markdown",
   "metadata": {},
   "source": [
    "---------"
   ]
  },
  {
   "cell_type": "markdown",
   "metadata": {},
   "source": [
    "### Total Revenue\n",
    "\n",
    "- It contains total revenue per school district in California for the academic year 2018-2019.\n",
    "- Revenue comes from local, state and federal sources."
   ]
  },
  {
   "cell_type": "code",
   "execution_count": null,
   "metadata": {},
   "outputs": [],
   "source": [
    "df_revenue = pd.read_csv('data/ELSI_csv_export_revenue.csv')"
   ]
  },
  {
   "cell_type": "code",
   "execution_count": null,
   "metadata": {},
   "outputs": [],
   "source": [
    "df_revenue"
   ]
  },
  {
   "cell_type": "code",
   "execution_count": null,
   "metadata": {},
   "outputs": [],
   "source": []
  }
 ],
 "metadata": {
  "kernelspec": {
   "display_name": "Python 3",
   "language": "python",
   "name": "python3"
  },
  "language_info": {
   "codemirror_mode": {
    "name": "ipython",
    "version": 3
   },
   "file_extension": ".py",
   "mimetype": "text/x-python",
   "name": "python",
   "nbconvert_exporter": "python",
   "pygments_lexer": "ipython3",
   "version": "3.7.6"
  }
 },
 "nbformat": 4,
 "nbformat_minor": 4
}
